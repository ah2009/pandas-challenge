{
 "cells": [
  {
   "cell_type": "code",
   "execution_count": null,
   "metadata": {},
   "outputs": [],
   "source": [
    "#top spenders\n",
    "dataframe.groupby([\"SN\"]).sum()\n",
    "dataframe.set_index([\"SN\", \"Item ID\"]).count(level= \"SN\").sort_values(by=\"Purchase ID\",ascending=False)\n",
    "top5_df = top5purchase_df.sort_values(ascending=False)\n",
    "#top5purchase_df = dataframe.groupby(by=\"Age\")\n",
    "#.sum()[\"Price\"].rename(\"Total Purchase Value\")\n",
    "#print(top5purchase_df)\n",
    "#top5_df.value.counts()\n",
    "#top5_df.head()\n",
    "\n",
    "#top5purchase_df\n",
    "#Most popular Items\n",
    "mostpopular_items=dataframe.filter(['Item ID', 'Item Name', 'Price'], axis=1)\n",
    "item_price=mostpopular_items.groupby(['Item ID','Item Name'])['Price'].mean()\n",
    "purchase_count=mostpopular_items.groupby(['Item ID','Item Name']).value.counts()\n",
    "purchase_value=item_price*purchase_count\n",
    "#mp_df=purchase_count.to_frame ('Purchase Count')\n",
    "#mp_df['Item Price']=item_price.map(\"$:..2f}\".format)\n",
    "#mp_df['Total Purchase Value']=purchase_value\n",
    "#mp_df1=mp_df.sort_values(by=\"Purchase Count\", ascending=False)\n",
    "#mp_df1['Total Purchase Value']=mp_df1['Total Purchase Value'].map(\"${:.2f}\")\n",
    "#mp_df1.head()"
   ]
  },
  {
   "cell_type": "code",
   "execution_count": null,
   "metadata": {},
   "outputs": [],
   "source": [
    "grouped_IDNAME_df = Most_popular_df.groupby(['Item ID', 'Item Name'])\n",
    "grouped_IDNAME_df.head(10)\n",
    "\n",
    "\n",
    "Sort_purchasecount_df = Most_popular_df.sort_values(\"Item Name\", ascending=False)\n",
    "grouped_IDNAME_df = Most_popular_df.groupby([\"Item Name\"]).sum()[\"Price\"]"
   ]
  }
 ],
 "metadata": {
  "kernelspec": {
   "display_name": "Python 3",
   "language": "python",
   "name": "python3"
  },
  "language_info": {
   "codemirror_mode": {
    "name": "ipython",
    "version": 3
   },
   "file_extension": ".py",
   "mimetype": "text/x-python",
   "name": "python",
   "nbconvert_exporter": "python",
   "pygments_lexer": "ipython3",
   "version": "3.8.3"
  }
 },
 "nbformat": 4,
 "nbformat_minor": 4
}
